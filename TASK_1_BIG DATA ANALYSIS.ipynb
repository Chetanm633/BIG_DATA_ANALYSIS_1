{
  "nbformat": 4,
  "nbformat_minor": 0,
  "metadata": {
    "colab": {
      "private_outputs": true,
      "provenance": []
    },
    "kernelspec": {
      "name": "python3",
      "display_name": "Python 3"
    },
    "language_info": {
      "name": "python"
    }
  },
  "cells": [
    {
      "cell_type": "markdown",
      "source": [
        "**TASK: 1 BIG DATA ANALLYSIS**"
      ],
      "metadata": {
        "id": "HilE2F2mgLD0"
      }
    },
    {
      "cell_type": "code",
      "execution_count": null,
      "metadata": {
        "id": "LubsuJ7JgJ4J"
      },
      "outputs": [],
      "source": [
        "import pandas as pd\n",
        "import matplotlib.pyplot as plt\n",
        "import seaborn as sns\n",
        "\n",
        "# Load the data\n",
        "file_path = '/content/Summer-Olympic-medals-1976-to-2008.csv'  # Replace with your file path\n",
        "data = pd.read_csv(file_path, encoding='ISO-8859-1')\n",
        "\n",
        "# Drop rows with missing values\n",
        "data = data.dropna()\n",
        "\n",
        "# Preview the data\n",
        "print(\"Data Preview:\")\n",
        "print(data.head())\n",
        "\n",
        "# 1. Line Graph: Medal trends over the years for a specific country\n",
        "country = 'United States'  # Replace with your desired country\n",
        "country_data = data[data['Country'] == country]\n",
        "medals_per_year = country_data.groupby(['Year', 'Medal']).size().unstack(fill_value=0)\n",
        "medals_per_year.plot(kind='line', marker='o')\n",
        "plt.title(f\"{country}: Medal Trends Over the Years\")\n",
        "plt.xlabel(\"Year\")\n",
        "plt.ylabel(\"Number of Medals\")\n",
        "plt.grid()\n",
        "plt.show()\n",
        "\n",
        "# 2. Bar Graph: Total medals by country\n",
        "total_medals_by_country = data.groupby('Country')['Medal'].count().sort_values(ascending=False).head(10)\n",
        "total_medals_by_country.plot(kind='bar', color='skyblue')\n",
        "plt.title(\"Top 10 Countries by Total Medals\")\n",
        "plt.xlabel(\"Country\")\n",
        "plt.ylabel(\"Total Medals\")\n",
        "plt.xticks(rotation=45)\n",
        "plt.show()\n",
        "\n",
        "# 3. Pie Chart: Medal distribution for a specific country\n",
        "medal_distribution = country_data['Medal'].value_counts()\n",
        "medal_distribution.plot(kind='pie', autopct='%1.1f%%', colors=['gold', 'silver', '#cd7f32'])\n",
        "plt.title(f\"{country}: Medal Distribution\")\n",
        "plt.ylabel(\"\")  # Remove y-axis label for better appearance\n",
        "plt.show()\n",
        "\n",
        "# 4. Histogram: Distribution of medals across all events\n",
        "data['Medal'].value_counts().plot(kind='bar', color='green', alpha=0.7)\n",
        "plt.title(\"Medal Distribution Across All Events\")\n",
        "plt.xlabel(\"Medal Type\")\n",
        "plt.ylabel(\"Frequency\")\n",
        "plt.show()\n",
        "\n",
        "# 5. Scatter Plot: Number of athletes vs medals per country\n",
        "athletes_per_country = data.groupby('Country')['Athlete'].nunique()\n",
        "medals_per_country = data.groupby('Country')['Medal'].count()\n",
        "plt.scatter(athletes_per_country, medals_per_country, alpha=0.6, color='purple')\n",
        "plt.title(\"Number of Athletes vs Medals per Country\")\n",
        "plt.xlabel(\"Number of Athletes\")\n",
        "plt.ylabel(\"Total Medals\")\n",
        "plt.grid()\n",
        "plt.show()\n",
        "\n",
        "# 6. Heatmap: Medal counts by gender and medal type\n",
        "medal_gender_pivot = data.pivot_table(index='Gender', columns='Medal', values='Athlete', aggfunc='count', fill_value=0)\n",
        "sns.heatmap(medal_gender_pivot, annot=True, cmap='coolwarm', fmt='d')\n",
        "plt.title(\"Medal Counts by Gender and Type\")\n",
        "plt.show()\n",
        "\n",
        "# 7. Stacked Area Chart: Medals over the years for the top 3 countries\n",
        "top_countries = data['Country'].value_counts().head(3).index\n",
        "top_countries_data = data[data['Country'].isin(top_countries)]\n",
        "medals_over_years = top_countries_data.groupby(['Year', 'Country']).size().unstack(fill_value=0)\n",
        "medals_over_years.plot.area(alpha=0.5)\n",
        "plt.title(\"Medals Over the Years (Top 3 Countries)\")\n",
        "plt.xlabel(\"Year\")\n",
        "plt.ylabel(\"Number of Medals\")\n",
        "plt.show()\n"
      ]
    }
  ]
}